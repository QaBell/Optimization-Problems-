{
 "cells": [
  {
   "cell_type": "code",
   "execution_count": 22,
   "metadata": {},
   "outputs": [
    {
     "name": "stderr",
     "output_type": "stream",
     "text": [
      "/var/folders/6y/2s8m89fn2h9bzdby9gclsg1r0000gn/T/ipykernel_45562/3454734972.py:9: DeprecationWarning: `method='revised simplex'` is deprecated and will be removed in SciPy 1.11.0. Please use one of the HiGHS solvers (e.g. `method='highs'`) in new code.\n",
      "  optimization = linprog(c = obj, A_ub = lhs, b_ub = rhs, A_eq = lhs_eq, b_eq = rhs_eq, bounds = bnd, method = 'revised simplex')\n"
     ]
    },
    {
     "data": {
      "text/plain": [
       "     con: array([4.])\n",
       "     fun: -3.0\n",
       " message: 'The problem appears infeasible, as the phase one auxiliary problem terminated successfully with a residual of 4.0e+00, greater than the tolerance 1e-12 required for the solution to be considered feasible. Consider increasing the tolerance to be greater than 4.0e+00. If this tolerance is unnaceptably large, the problem is likely infeasible.'\n",
       "     nit: 1\n",
       "   slack: array([19.,  3.,  0.])\n",
       "  status: 2\n",
       " success: False\n",
       "       x: array([0., 3.])"
      ]
     },
     "execution_count": 22,
     "metadata": {},
     "output_type": "execute_result"
    }
   ],
   "source": [
    "from scipy.optimize import linprog\n",
    "\n",
    "obj = [-2, -1]  #coefficients of objective function\n",
    "lhs = [[2, 1], [-5,4], [-1, 4]] #coefficients of LHS (inequalities)\n",
    "rhs = [22, 15, 12]  #coefficients of RHS (inequalities)\n",
    "lhs_eq = [[-1, 4]]  #coefficients of LHS (equalities)\n",
    "rhs_eq = [16]   #coefficients of RHS (equalities)\n",
    "bnd = [(0, float('inf')), (0,float('inf'))]\n",
    "optimization = linprog(c = obj, A_ub = lhs, b_ub = rhs, A_eq = lhs_eq, b_eq = rhs_eq, bounds = bnd, method = 'revised simplex')\n",
    "optimization "
   ]
  }
 ],
 "metadata": {
  "kernelspec": {
   "display_name": "Python 3",
   "language": "python",
   "name": "python3"
  },
  "language_info": {
   "codemirror_mode": {
    "name": "ipython",
    "version": 3
   },
   "file_extension": ".py",
   "mimetype": "text/x-python",
   "name": "python",
   "nbconvert_exporter": "python",
   "pygments_lexer": "ipython3",
   "version": "3.11.1 (v3.11.1:a7a450f84a, Dec  6 2022, 15:24:06) [Clang 13.0.0 (clang-1300.0.29.30)]"
  },
  "orig_nbformat": 4,
  "vscode": {
   "interpreter": {
    "hash": "aee8b7b246df8f9039afb4144a1f6fd8d2ca17a180786b69acc140d282b71a49"
   }
  }
 },
 "nbformat": 4,
 "nbformat_minor": 2
}
