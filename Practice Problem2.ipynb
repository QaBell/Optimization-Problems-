{
 "cells": [
  {
   "cell_type": "code",
   "execution_count": 44,
   "metadata": {},
   "outputs": [],
   "source": [
    "from docplex.mp.model import Model\n",
    "mdl = Model(name = 'Phone Production')"
   ]
  },
  {
   "cell_type": "code",
   "execution_count": null,
   "metadata": {},
   "outputs": [],
   "source": []
  },
  {
   "cell_type": "code",
   "execution_count": 45,
   "metadata": {},
   "outputs": [],
   "source": [
    "#Variables\n",
    "#phone production variables\n",
    "foldyphoneproduction = mdl.continuous_var(name= 'foldy phone production')\n",
    "tinyphoneproduction = mdl.continuous_var(name= 'tiny phone production')\n",
    "\n",
    "#production time constants\n",
    "foldyphonetime = 1.5\n",
    "tinyphonetime = 2\n",
    "\n",
    "#production prices\n",
    "foldyphonesaleprice = 900\n",
    "tinyphonesaleprice = 1100\n"
   ]
  },
  {
   "cell_type": "code",
   "execution_count": 46,
   "metadata": {},
   "outputs": [],
   "source": [
    "#Constraints\n",
    "foldyphoneconstraint = mdl.add_constraint(foldyphoneproduction >= 500)\n",
    "tinyphoneconstraint = mdl.add_constraint(tinyphoneproduction >= 200)\n",
    "\n",
    "#Production Constraint\n",
    "totalprodconstraint = mdl.add_constraint(mdl.sum([tinyphoneproduction*tinyphonetime,foldyphoneproduction*foldyphonetime]) <= 2999.5)\n"
   ]
  },
  {
   "cell_type": "code",
   "execution_count": 47,
   "metadata": {},
   "outputs": [],
   "source": [
    "#Goals/Objs\n",
    "mdl.maximize(foldyphoneproduction*foldyphonesaleprice + tinyphoneproduction*tinyphonesaleprice)\n"
   ]
  },
  {
   "cell_type": "code",
   "execution_count": 48,
   "metadata": {},
   "outputs": [
    {
     "name": "stdout",
     "output_type": "stream",
     "text": [
      "-- cannot find parameters matching version: , using: 22.1.1.0\n"
     ]
    },
    {
     "ename": "DOcplexException",
     "evalue": "Cannot solve model: no CPLEX runtime found.",
     "output_type": "error",
     "traceback": [
      "\u001b[0;31m---------------------------------------------------------------------------\u001b[0m",
      "\u001b[0;31mDOcplexException\u001b[0m                          Traceback (most recent call last)",
      "Cell \u001b[0;32mIn[48], line 1\u001b[0m\n\u001b[0;32m----> 1\u001b[0m sol \u001b[39m=\u001b[39m mdl\u001b[39m.\u001b[39;49msolve(TimeLimit\u001b[39m=\u001b[39;49m\u001b[39m80\u001b[39;49m, LogPeriod\u001b[39m=\u001b[39;49m\u001b[39m5000\u001b[39;49m)\n\u001b[1;32m      2\u001b[0m sol\u001b[39m.\u001b[39mdisplay()\n",
      "File \u001b[0;32m/Library/Frameworks/Python.framework/Versions/3.11/lib/python3.11/site-packages/docplex/mp/model.py:4835\u001b[0m, in \u001b[0;36mModel.solve\u001b[0;34m(self, **kwargs)\u001b[0m\n\u001b[1;32m   4833\u001b[0m     \u001b[39mreturn\u001b[39;00m \u001b[39mself\u001b[39m\u001b[39m.\u001b[39m_solve_local(context, used_clean_before_solve, parameter_sets)\u001b[39m# lex_timelimits, lex_mipgaps)\u001b[39;00m\n\u001b[1;32m   4834\u001b[0m \u001b[39melse\u001b[39;00m:\n\u001b[0;32m-> 4835\u001b[0m     \u001b[39mreturn\u001b[39;00m \u001b[39mself\u001b[39;49m\u001b[39m.\u001b[39;49mfatal(\u001b[39m\"\u001b[39;49m\u001b[39mCannot solve model: no CPLEX runtime found.\u001b[39;49m\u001b[39m\"\u001b[39;49m)\n",
      "File \u001b[0;32m/Library/Frameworks/Python.framework/Versions/3.11/lib/python3.11/site-packages/docplex/mp/model.py:1080\u001b[0m, in \u001b[0;36mModel.fatal\u001b[0;34m(self, msg, *args)\u001b[0m\n\u001b[1;32m   1079\u001b[0m \u001b[39mdef\u001b[39;00m \u001b[39mfatal\u001b[39m(\u001b[39mself\u001b[39m, msg, \u001b[39m*\u001b[39margs):\n\u001b[0;32m-> 1080\u001b[0m     \u001b[39mself\u001b[39;49m\u001b[39m.\u001b[39;49m_error_handler\u001b[39m.\u001b[39;49mfatal(msg, args)\n",
      "File \u001b[0;32m/Library/Frameworks/Python.framework/Versions/3.11/lib/python3.11/site-packages/docplex/mp/error_handler.py:210\u001b[0m, in \u001b[0;36mAbstractErrorHandler.fatal\u001b[0;34m(self, msg, args)\u001b[0m\n\u001b[1;32m    208\u001b[0m resolved_message \u001b[39m=\u001b[39m resolve_pattern(msg, args)\n\u001b[1;32m    209\u001b[0m docplex_error_stop_here()\n\u001b[0;32m--> 210\u001b[0m \u001b[39mraise\u001b[39;00m DOcplexException(resolved_message)\n",
      "\u001b[0;31mDOcplexException\u001b[0m: Cannot solve model: no CPLEX runtime found."
     ]
    }
   ],
   "source": [
    "sol = mdl.solve(TimeLimit=80, LogPeriod=5000)\n",
    "sol.display()\n"
   ]
  }
 ],
 "metadata": {
  "kernelspec": {
   "display_name": "Python 3",
   "language": "python",
   "name": "python3"
  },
  "language_info": {
   "codemirror_mode": {
    "name": "ipython",
    "version": 3
   },
   "file_extension": ".py",
   "mimetype": "text/x-python",
   "name": "python",
   "nbconvert_exporter": "python",
   "pygments_lexer": "ipython3",
   "version": "3.11.1"
  },
  "orig_nbformat": 4,
  "vscode": {
   "interpreter": {
    "hash": "aee8b7b246df8f9039afb4144a1f6fd8d2ca17a180786b69acc140d282b71a49"
   }
  }
 },
 "nbformat": 4,
 "nbformat_minor": 2
}
